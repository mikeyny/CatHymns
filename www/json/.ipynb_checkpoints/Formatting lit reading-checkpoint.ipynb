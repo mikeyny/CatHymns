{
 "cells": [
  {
   "cell_type": "code",
   "execution_count": 3,
   "metadata": {
    "collapsed": false
   },
   "outputs": [
    {
     "name": "stdout",
     "output_type": "stream",
     "text": [
      "JANUARY 2017\n",
      "\n",
      "1 January, Sunday \n",
      " Solemnity of MARY, THE HOLY MOTHER OF GOD\n",
      "  Nb 6:22-27\n",
      "  Ps 67:2-3.5.6.8\n",
      "  Gal 4:4-7\n",
      "  Lk 2:16-21\n",
      "Songs: 504, 203, 263, 285, 365 // 107, 408, 500, 703, D60\n",
      "\n",
      "2 January, Monday \n",
      " Memorial of Saints Basil the Great and Gregory Nazianzen,\n",
      "  Bishops and Doctors of the Church\n",
      "  1 Jn 2:22-28Ps 98:1.2-3a.3b-4Jn 1:19-28\n",
      "\n",
      "3 January, Tuesday \n",
      "1 Jn 2:29-3:6Ps 98:1.3-4.5-6\n",
      "  Jn 1:29-34\n",
      "\n",
      "4 January, Wednesday [w]1 Jn 3:7-10\n",
      "  Ps 98:1.7-8.9\n",
      "  Jn 1:35-42\n",
      "\n",
      "5 January, Thursday [w]1 Jn 3:11-21\n",
      "  Ps 100:1-2.3.4.5\n",
      "  Jn 1:43-51\n",
      "\n",
      "6 January, Friday \n",
      "1 Jn 5:5-13\n",
      "  Ps 147:12-13.14-15.19-20\n",
      "  Mk 1:7-11 /Lk 3:23-28 / 3:23.31-34.36.38\n",
      "\n",
      "7 January, Saturday \n",
      " Memorial of Saint Raymond of Penyafort, Priest\n",
      "  1 Jn 5:14-21Ps 149:1-2.3-4.5.6.9Jn 2:1-11\n",
      "\n"
     ]
    }
   ],
   "source": [
    "import json\n",
    "import re\n",
    "\n",
    "with open('reading.json') as json_data:\n",
    "    d = json.load(json_data)\n",
    "    print(d[\"January\"][0])"
   ]
  },
  {
   "cell_type": "code",
   "execution_count": 4,
   "metadata": {
    "collapsed": true
   },
   "outputs": [],
   "source": [
    "months = [\"January\",\"February\",\"March\",\"April\",\"May\",\"June\",\"July\",\"August\",\"September\",\"Octomber\",\"November\",\"December\"]"
   ]
  },
  {
   "cell_type": "code",
   "execution_count": 20,
   "metadata": {
    "collapsed": false
   },
   "outputs": [],
   "source": [
    "for month in d:\n",
    "    for i,item in enumerate(d[month]):\n",
    "        d[month][i] = d[month][i].replace(\"\"\"[g]\"\"\",\"\\n\")\n",
    "        d[month][i] = d[month][i].replace(\"[w]\",\"\\n\")\n",
    "        d[month][i] = d[month][i].replace(\"[r]\",\"\\n\")\n",
    "    "
   ]
  },
  {
   "cell_type": "code",
   "execution_count": 21,
   "metadata": {
    "collapsed": false
   },
   "outputs": [],
   "source": [
    "d[\"January\"][2] = d[\"January\"][2].replace(\"[g]\",\"\\n\")"
   ]
  },
  {
   "cell_type": "code",
   "execution_count": 22,
   "metadata": {
    "collapsed": false
   },
   "outputs": [
    {
     "name": "stdout",
     "output_type": "stream",
     "text": [
      "15 January, Sunday \n",
      " 2nd SUNDAY IN ORDINARY TIME *2\n",
      "  Is 49:3.5-6\n",
      "  Ps 40:2.4.7-8.9-10\n",
      "  1 Cor 1:1-3\n",
      "  Jn 1:29-34\n",
      "Songs: 168, 200, 223, 299, 360 // 544, 578, 1122, 255\n",
      "16 January, Monday \n",
      "Heb 5:1-10\n",
      "  Ps 110:1.2.3.4\n",
      "  Mk 2:18-22\n",
      "17 January, Tuesday \n",
      " Memorial of Saint Anthony, Abbot\n",
      "  Heb 6:10-20Ps 111:1-2.4-5.9-10Mk 2:23-28\n",
      "18 January, Wednesday \n",
      "Heb 7:1-3.15-17Ps 110:1.2.3.4.\n",
      "  Mk 3:1-6 \n",
      "19 January, Thursday \n",
      "Heb 7:25-8:6Ps 40:7-8.9-10.17Mk 3:7-12\n",
      "20 January, Friday \n",
      "Heb 8:6-13\n",
      "  Ps 85:8.10.11-12.13-14\n",
      "  Mk 3:13-19\n",
      "Optional Memorial of Saint Fabian, Martyr \n",
      "\n",
      "Optional Memorial of Saint Sebastian, Martyr \n",
      "\n",
      "Optional Memorial of Blessed Cyprian Michael Iwene Tansi, Priest \n",
      "\n",
      "21 January, Saturday \n",
      " Memorial of Saint Agnes, Virgin and Martyr\n",
      "  Heb 9:2-3.11-14\n",
      "  Ps 47:2-3.6-7.8-9\n",
      "  Mk 3:20-21\n",
      "\n"
     ]
    }
   ],
   "source": [
    "print(d[\"January\"][2])"
   ]
  },
  {
   "cell_type": "code",
   "execution_count": 23,
   "metadata": {
    "collapsed": true
   },
   "outputs": [],
   "source": [
    "with open('reading.json', 'w') as f:\n",
    "  json.dump(d, f, ensure_ascii=False)"
   ]
  },
  {
   "cell_type": "code",
   "execution_count": null,
   "metadata": {
    "collapsed": true
   },
   "outputs": [],
   "source": []
  }
 ],
 "metadata": {
  "kernelspec": {
   "display_name": "Python 3",
   "language": "python",
   "name": "python3"
  },
  "language_info": {
   "codemirror_mode": {
    "name": "ipython",
    "version": 3
   },
   "file_extension": ".py",
   "mimetype": "text/x-python",
   "name": "python",
   "nbconvert_exporter": "python",
   "pygments_lexer": "ipython3",
   "version": "3.5.2"
  }
 },
 "nbformat": 4,
 "nbformat_minor": 2
}
